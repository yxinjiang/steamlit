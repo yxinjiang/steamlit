{
 "cells": [
  {
   "cell_type": "markdown",
   "metadata": {},
   "source": [
    "# Face Recognition Model - Serving Function\n",
    "The function uses PyTorch classifier on top of an opencv deep learning model to encode and recognize faces in given image"
   ]
  },
  {
   "cell_type": "markdown",
   "metadata": {},
   "source": [
    "### install packages to deploy function manualy"
   ]
  },
  {
   "cell_type": "code",
   "execution_count": null,
   "metadata": {},
   "outputs": [],
   "source": [
    "#nuclio: ignore\n",
    "from mlrun import load_project\n",
    "from os import path\n",
    "\n",
    "project_path = path.abspath('./')\n",
    "project = load_project(project_path)\n",
    "\n",
    "model_path = project.params.get('MODEL_PATH')\n",
    "classes_map = project.params.get('CLASSES_MAP')\n",
    "models_path = project.params.get('MODELS_PATH')\n",
    "model_path = project.params.get('MODEL_PATH')\n",
    "data_path = project.params.get('DATA_PATH')\n",
    "\n",
    "print(classes_map)"
   ]
  },
  {
   "cell_type": "code",
   "execution_count": null,
   "metadata": {},
   "outputs": [],
   "source": [
    "#nuclio: ignore\n",
    "import nuclio"
   ]
  },
  {
   "cell_type": "markdown",
   "metadata": {},
   "source": [
    "### Install dependencies and set config"
   ]
  },
  {
   "cell_type": "code",
   "execution_count": null,
   "metadata": {},
   "outputs": [],
   "source": [
    "%%nuclio cmd -c\n",
    "pip install opencv-python-headless==4.4.0.46\n",
    "pip install imutils==0.5.3\n",
    "pip install torch==1.7.0\n",
    "pip install pandas==1.1.4\n",
    "pip install cmake==3.13.3\n",
    "pip install face_recognition==1.3.0\n",
    "pip install v3io-frames==0.8.8\n",
    "pip install ipython==7.16.1"
   ]
  },
  {
   "cell_type": "code",
   "execution_count": null,
   "metadata": {},
   "outputs": [],
   "source": [
    "%nuclio config spec.build.baseImage = \"python:3.6-jessie\""
   ]
  },
  {
   "cell_type": "markdown",
   "metadata": {},
   "source": [
    "### Perform necessary imports"
   ]
  },
  {
   "cell_type": "code",
   "execution_count": null,
   "metadata": {},
   "outputs": [],
   "source": [
    "import importlib.util\n",
    "import cv2\n",
    "import face_recognition\n",
    "import imutils\n",
    "import json\n",
    "import torch\n",
    "import torch.nn as nn\n",
    "import torch.nn.functional as F\n",
    "import numpy as np\n",
    "import pandas as pd\n",
    "import random\n",
    "import string\n",
    "import v3io_frames as v3f\n",
    "import os\n",
    "import datetime\n",
    "from pickle import load\n",
    "import shutil\n",
    "import base64\n",
    "import IPython\n",
    "from os import getenv"
   ]
  },
  {
   "cell_type": "markdown",
   "metadata": {},
   "source": [
    "### Set function environment variables"
   ]
  },
  {
   "cell_type": "code",
   "execution_count": null,
   "metadata": {},
   "outputs": [],
   "source": [
    "%nuclio env V3IO_ACCESS_KEY=${V3IO_ACCESS_KEY}\n",
    "%nuclio env MODEL_PATH=model_path\n",
    "%nuclio env CLASSES_MAP=classes_map"
   ]
  },
  {
   "cell_type": "markdown",
   "metadata": {},
   "source": [
    "### Model serving class"
   ]
  },
  {
   "cell_type": "code",
   "execution_count": null,
   "metadata": {},
   "outputs": [],
   "source": [
    "def jpg_str_to_frame(encoded):\n",
    "    jpg_original = base64.b64decode(encoded)\n",
    "    jpg_as_np = np.frombuffer(jpg_original, dtype=np.uint8)\n",
    "    img = cv2.imdecode(jpg_as_np, flags=1)\n",
    "    return img\n",
    "\n",
    "class PytorchModel(object):\n",
    "    def __init__(self):\n",
    "        self.name = 'model.bst'\n",
    "        self.model_filepath = os.environ['MODEL_PATH']\n",
    "        self.model = None\n",
    "        self.ready = None\n",
    "        self.classes = os.environ['CLASSES_MAP']\n",
    "        self.device = torch.device('cuda') if torch.cuda.is_available() else torch.device('cpu')\n",
    "    \n",
    "    def convert_classes_path_for_pandas(self):\n",
    "        V3IO_USERNAME = getenv('V3IO_USERNAME')\n",
    "        classes=self.classes\n",
    "        classes = classes.replace(V3IO_USERNAME,'/User')\n",
    "        return classes\n",
    "    \n",
    "    def load(self):\n",
    "        input_dim = 128\n",
    "        hidden_dim = 64\n",
    "        output_dim = self.n_classes\n",
    "\n",
    "        spec = importlib.util.spec_from_file_location('models', os.environ['MODELS_PATH'])\n",
    "        models = importlib.util.module_from_spec(spec)\n",
    "        spec.loader.exec_module(models)\n",
    "\n",
    "        model = models.FeedForwardNeuralNetModel(input_dim, hidden_dim, output_dim)\n",
    "        model.to(self.device)\n",
    "        model = model.double()\n",
    "        model.__dict__['_modules'] = load(open(self.model_filepath, 'rb')) \n",
    "        self.model = model\n",
    "        self.ready = True\n",
    "    \n",
    "    def predict(self, context, data, confidence=0.8):\n",
    "        s_data = json.dumps(data)\n",
    "        context.logger.info(\"s_data: {}\".format(s_data))\n",
    "        # prepares image for use\n",
    "        encoded = json.loads(s_data)['content']\n",
    "        image = jpg_str_to_frame(encoded)\n",
    "        \n",
    "        # converts image format to RGB for comptability with face_recognition library and resize for faster processing\n",
    "        rgb = cv2.cvtColor(image, cv2.COLOR_BGR2RGB)\n",
    "        rgb = imutils.resize(image, width=750)\n",
    "        ratio = image.shape[1] / float(rgb.shape[1])\n",
    "        \n",
    "        #gets mapping from label to name and known encodings\n",
    "        classes = self.convert_classes_path_for_pandas()\n",
    "        idx2name_df = pd.read_csv(classes).set_index('value')\n",
    "        self.n_classes = len(idx2name_df)\n",
    "        \n",
    "        if not self.model:\n",
    "            self.load()\n",
    "        \n",
    "        #locates faces in image and extracts embbeding vector for each face\n",
    "        context.logger.info('recognizing faces')\n",
    "        boxes = face_recognition.face_locations(rgb, model='hog')\n",
    "        encodings = face_recognition.face_encodings(rgb, boxes)\n",
    "        \n",
    "        #determines if face is a clear match/ambiguous.\n",
    "        names = []\n",
    "        labels = []\n",
    "        confidences = []\n",
    "        for encoding in encodings:\n",
    "            name = 'unknown'\n",
    "            label = torch.tensor(-1)\n",
    "            enc_tensor = torch.tensor(encoding, device=self.device)\n",
    "            self.model.to(self.device)\n",
    "            out = self.model(enc_tensor)\n",
    "            pred_n, pred_i = out.topk(1)\n",
    "            distrib = F.softmax(out, dim=0)\n",
    "            \n",
    "            max_p, max_i = distrib.topk(1)\n",
    "            if max_p.item() > confidence:\n",
    "                label = pred_i.cpu()\n",
    "                name = idx2name_df.loc[label]['name'].values[0].replace('_', ' ')\n",
    "            names.append(name)\n",
    "            labels.append(label)\n",
    "            confidences.append(max_p.item())\n",
    "\n",
    "        #draw boxes with name on the image and performs logic according to match/ambiguous \n",
    "        resp_list = []\n",
    "        for ((top, right, bottom, left), name, encoding, label, confidence) in zip(boxes, names, encodings, labels, confidences):  \n",
    "\n",
    "            #rescale the face coordinates\n",
    "            top = int(top * ratio)\n",
    "            right = int(right * ratio)\n",
    "            bottom = int(bottom * ratio)\n",
    "            left = int(left * ratio)\n",
    "            \n",
    "            #appends box name and confidence to the returned list  \n",
    "            resp_list.append({'coords': (top, right, bottom, left), 'name': name, 'label': label.item(), 'confidence': confidence, 'encoding': encoding.tolist()})\n",
    "            \n",
    "        return context.Response(body=json.dumps(resp_list))"
   ]
  },
  {
   "cell_type": "markdown",
   "metadata": {},
   "source": [
    "### Main function\n",
    "simply initializes the model class and invokes the predict method "
   ]
  },
  {
   "cell_type": "code",
   "execution_count": null,
   "metadata": {},
   "outputs": [],
   "source": [
    "model = PytorchModel()\n",
    "def handler(context, event):\n",
    "    return model.predict(context=context, data=event.body)"
   ]
  },
  {
   "cell_type": "code",
   "execution_count": null,
   "metadata": {},
   "outputs": [],
   "source": [
    "#nuclio: end-code"
   ]
  },
  {
   "cell_type": "markdown",
   "metadata": {},
   "source": [
    "### Set configuration for deployment"
   ]
  },
  {
   "cell_type": "code",
   "execution_count": null,
   "metadata": {},
   "outputs": [],
   "source": [
    "# converts the notebook code to deployable function with configurations\n",
    "from mlrun import code_to_function, mount_v3io\n",
    "fn = code_to_function('nuclio-face-prediction', kind='nuclio')\n",
    "\n",
    "# set the API/trigger, attach the home dir to the function\n",
    "fn.with_http(workers=2).apply(mount_v3io())\n",
    "\n",
    "# set environment variables\n",
    "fn.set_env('MODELS_PATH',models_path)\n",
    "fn.set_env('MODEL_PATH', model_path)\n",
    "fn.set_env('CLASSES_MAP', classes_map)\n",
    "fn.set_env('V3IO_ACCESS_KEY', os.environ['V3IO_ACCESS_KEY'])"
   ]
  },
  {
   "cell_type": "markdown",
   "metadata": {},
   "source": [
    "### Deploy the function to the cluster\n",
    "May take a few minutes due to building of image"
   ]
  },
  {
   "cell_type": "code",
   "execution_count": null,
   "metadata": {},
   "outputs": [],
   "source": [
    "from os import getenv, path\n",
    "PROJECT_BASE_NAME = \"faces\"\n",
    "project_name = '-'.join(filter(None, [PROJECT_BASE_NAME, getenv('V3IO_USERNAME', None)]))\n",
    "addr = fn.deploy(project=project_name)"
   ]
  },
  {
   "cell_type": "code",
   "execution_count": null,
   "metadata": {},
   "outputs": [],
   "source": [
    "#!pip install nuclio_sdk"
   ]
  },
  {
   "cell_type": "code",
   "execution_count": null,
   "metadata": {},
   "outputs": [],
   "source": [
    "\n",
    "import nuclio_sdk\n",
    "import logging\n",
    "\n",
    "os.environ['MODEL_PATH']=model_path\n",
    "os.environ['CLASSES_MAP']=classes_map\n",
    "os.environ['MODELS_PATH']=models_path\n",
    "os.environ['DATA_PATH']=data_path\n",
    "\n",
    "logger = logging.Logger('triggering')\n",
    "ctx = nuclio_sdk.Context(logger=logger)\n",
    "\n",
    "payload = {'file_path': 'pp.jpeg', 'time': '20191110131130', 'camera': 'cammy'}\n",
    "ev = nuclio_sdk.Event(body=payload)\n",
    "handler(ctx,ev)"
   ]
  },
  {
   "cell_type": "code",
   "execution_count": null,
   "metadata": {},
   "outputs": [],
   "source": []
  },
  {
   "cell_type": "code",
   "execution_count": null,
   "metadata": {},
   "outputs": [],
   "source": []
  }
 ],
 "metadata": {
  "kernelspec": {
   "display_name": "Python 3",
   "language": "python",
   "name": "python3"
  },
  "language_info": {
   "codemirror_mode": {
    "name": "ipython",
    "version": 3
   },
   "file_extension": ".py",
   "mimetype": "text/x-python",
   "name": "python",
   "nbconvert_exporter": "python",
   "pygments_lexer": "ipython3",
   "version": "3.7.6"
  }
 },
 "nbformat": 4,
 "nbformat_minor": 4
}
